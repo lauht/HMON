{
 "cells": [
  {
   "cell_type": "code",
   "execution_count": 11,
   "metadata": {},
   "outputs": [],
   "source": [
    "import os\n",
    "import math\n",
    "import time\n",
    "import argparse\n",
    "import numpy as np\n",
    "from sklearn import metrics\n",
    "import torch\n",
    "import torch.optim as optim\n",
    "torch.set_num_threads(6)\n",
    "\n",
    "from model import MPA, TotalLoss\n",
    "from utlis import get_base_company, get_features_n_labels, get_windows_mpa"
   ]
  },
  {
   "cell_type": "code",
   "execution_count": 2,
   "metadata": {},
   "outputs": [],
   "source": [
    "parser = argparse.ArgumentParser(description='Stock Forecasting')\n",
    "\n",
    "parser.add_argument('--prestart_time', type=str, default='2000-01-01')\n",
    "parser.add_argument('--start_time', type=str, default='2004-10-31')\n",
    "parser.add_argument('--end_time', type=str, default='2020-01-01')\n",
    "parser.add_argument('--lagend_time', type=str, default='2020-10-31')\n",
    "parser.add_argument('--save_path', type=str, default='./output')\n",
    "parser.add_argument('--lr', type=float, default=0.0001)\n",
    "parser.add_argument('--weight_decay', type=float, default=5e-4)\n",
    "parser.add_argument('--epochs', type=int, default=400)\n",
    "parser.add_argument('--device', type=str, default='cpu')\n",
    "parser.add_argument('--window_size', type=int, default=12)\n",
    "parser.add_argument('--unmask_num', type=int, default=1)\n",
    "parser.add_argument('--pred_acc', type=float, default=0.6)\n",
    "\n",
    "args = parser.parse_args(args=[\n",
    "    '--save_path', './output',\n",
    "    '--prestart_time', '2015-06-01',\n",
    "    '--start_time', '2016-01-01',\n",
    "    '--end_time', '2020-01-01',\n",
    "    '--lagend_time', '2020-10-30',\n",
    "    '--unmask_num', '1',\n",
    "    '--pred_acc', '0.75', # mutation probability = 0.25\n",
    "    ])"
   ]
  },
  {
   "cell_type": "code",
   "execution_count": 1,
   "metadata": {},
   "outputs": [],
   "source": [
    "output_path = args.save_path + '/' + (time.strftime(r'%Y-%m-%d_%H-%M-%S',time.localtime(time.time())))\n",
    "output_filename = output_path + '/' + 'gdat.pt'\n",
    "train_log_filename = output_path + '/' + 'gdat.txt'\n",
    "if not os.path.exists(output_path):\n",
    "    os.makedirs(output_path)\n",
    "    print(\"Output dir '{}' has been created.\".format(output_path))\n",
    "else:\n",
    "    print(\"Output dir '{}' is existed.\".format(output_path))"
   ]
  },
  {
   "cell_type": "markdown",
   "metadata": {},
   "source": [
    "## Load Data"
   ]
  },
  {
   "cell_type": "code",
   "execution_count": 2,
   "metadata": {},
   "outputs": [],
   "source": [
    "selected_tickers = get_base_company(args)\n",
    "features, labels, company_final, final_timestamps = get_features_n_labels(args=args, selected_tickers=selected_tickers)\n",
    "binary_labels = (labels > 0) * torch.ones_like(labels)"
   ]
  },
  {
   "attachments": {},
   "cell_type": "markdown",
   "metadata": {},
   "source": [
    "## Train and Evaluation"
   ]
  },
  {
   "cell_type": "code",
   "execution_count": 5,
   "metadata": {},
   "outputs": [],
   "source": [
    "def train(mode, args):\n",
    "    model.train()\n",
    "    total_loss = np.array([])\n",
    "    if mode == 'pre-train':\n",
    "        for x, x_tag, y, mask in get_windows_mpa(features, binary_labels, mode=mode, dataset='train', device=device, args=args, shuffle=True):\n",
    "            y_hat, h_pmt, l_ort, l_pol, V1, V0 = model(x[:,:,rmv_feature_num:], x_tag)\n",
    "            loss = criterion(y_hat, h_pmt, l_ort, l_pol, y.long(), V1, V0)\n",
    "            optimizer.zero_grad()\n",
    "            loss.backward()\n",
    "            torch.nn.utils.clip_grad_value_(model.parameters(), 3.)\n",
    "            optimizer.step()\n",
    "            total_loss = np.append(total_loss, loss.item())\n",
    "        train_loss = total_loss.mean()\n",
    "        return train_loss"
   ]
  },
  {
   "cell_type": "code",
   "execution_count": 6,
   "metadata": {},
   "outputs": [],
   "source": [
    "def test(model, dataset, mode, args, cls_report=False):\n",
    "    all_acc = np.array([])\n",
    "    predictions = torch.Tensor([])\n",
    "    ys = torch.Tensor([])\n",
    "    model.eval()\n",
    "    if mode == 'pre-train':\n",
    "        with torch.no_grad():\n",
    "            for x, x_tag, y, mask in get_windows_mpa(features, binary_labels, mode=mode, dataset=dataset, args=args, device=device):\n",
    "                y_hat, h_pmt, _, _, V1, V0 = model(x[:,:,rmv_feature_num:], x_tag)\n",
    "                y_hat[V0] = h_pmt[V0]\n",
    "                prediction = y_hat.max(1)[1]\n",
    "                acc = torch.eq(prediction, y).float().mean().cpu().numpy()\n",
    "\n",
    "                acc = torch.eq(prediction[mask], y[mask]).float().mean().cpu().numpy()\n",
    "                predictions = torch.cat([predictions, prediction[mask].cpu()], dim=0)\n",
    "                ys = torch.cat([ys, y[mask].cpu()], dim=0)\n",
    "                all_acc = np.append(all_acc, acc)\n",
    "            accuracy = torch.eq(predictions, ys).float().mean().cpu().numpy()\n",
    "        if cls_report == False:\n",
    "            return accuracy\n",
    "        else:\n",
    "            return accuracy, ys, predictions"
   ]
  },
  {
   "cell_type": "code",
   "execution_count": 7,
   "metadata": {},
   "outputs": [],
   "source": [
    "def main(pt=True):\n",
    "    with open(train_log_filename, 'w', encoding='utf-8') as f:\n",
    "        f.write('Train Log:' + '\\n')\n",
    "\n",
    "    best_val = -math.inf\n",
    "    loss_train_history = []\n",
    "    val_acc_history = []\n",
    "    mode = 'pre-train'\n",
    "    for epoch in range(1, total_epoch+1):\n",
    "        # ---------training------------\n",
    "        train_loss = train(mode=mode, args=args)\n",
    "        lr_temp = optimizer.param_groups[-1]['lr']\n",
    "        scheduler.step()\n",
    "        # --------evaluation-----------\n",
    "        train_acc = test(mode=mode, model=model, args=args, dataset='train')\n",
    "        val_acc, ys, preds = test(mode=mode, model=model, args=args, dataset='valid', cls_report=True)\n",
    "        loss_train_history.append(train_loss)\n",
    "        val_acc_history.append(val_acc)\n",
    "        if pt:\n",
    "            print(\"| Epoch {:3d} | TrainLoss {:6.4f} | TrainAcc {:6.4} | ValAcc {:6.4f} | ValMCC {:6.4f} | lr {:6.8f} |\".format(epoch, train_loss, train_acc, val_acc, metrics.matthews_corrcoef(ys, preds), lr_temp))\n",
    "        with open(train_log_filename, 'a', encoding='utf-8') as f:\n",
    "            f.write(\"| Epoch {:3d} | TrainLoss {:6.4f} | TrainAcc {:6.4} | ValAcc {:6.4f} | ValMCC {:6.4f} | lr {:6.8f} |\".format(epoch, train_loss, train_acc, val_acc, metrics.matthews_corrcoef(ys, preds), lr_temp) + '\\n')\n",
    "        test_acc, ys, preds = test(mode=mode, model=model, dataset='test', args=args, cls_report=True)\n",
    "        if pt:\n",
    "            print(\"| TestAcc {:6.4f} | TestMCC {:6.4f} |\".format(test_acc, metrics.matthews_corrcoef(ys, preds)))\n",
    "        with open(train_log_filename, 'a', encoding='utf-8') as f:\n",
    "            f.write(\"| TestAcc {:6.4f} | TestMCC {:6.4f} |\".format(test_acc, metrics.matthews_corrcoef(ys, preds)) + '\\n')\n",
    "        # -----------------------------\n",
    "        if (epoch % 5 == 0) or (val_acc > best_val):\n",
    "            if (val_acc > best_val):\n",
    "                torch.save(model.state_dict(), output_filename)\n",
    "                best_val = val_acc\n",
    "            valid_acc, ys, preds = test(mode=mode, model=model, dataset='valid', args=args, cls_report=True)\n",
    "            if pt:\n",
    "                print('VALID CLASSIFICATION: ')\n",
    "                print(metrics.classification_report(ys, preds))\n",
    "            test_acc, ys, preds = test(mode=mode, model=model, dataset='test', args=args, cls_report=True)\n",
    "            if pt:\n",
    "                print(\"| TestAcc {:6.4f} | TestMCC {:6.4f} |\".format(test_acc, metrics.matthews_corrcoef(ys, preds)))\n",
    "                print('TEST CLASSIFICATION: ')\n",
    "                print(metrics.classification_report(ys, preds))\n",
    "            with open(train_log_filename, 'a', encoding='utf-8') as f:\n",
    "                f.write(\"| TestAcc {:6.4f} | TestMCC {:6.4f} |\".format(test_acc, metrics.matthews_corrcoef(ys, preds)) + '\\n')"
   ]
  },
  {
   "cell_type": "code",
   "execution_count": 3,
   "metadata": {},
   "outputs": [],
   "source": [
    "learning_rate = 0.0001\n",
    "total_epoch = 200\n",
    "rmv_feature_num = 6\n",
    "device = \"cuda:1\" if torch.cuda.is_available() else \"cpu\"\n",
    "print(\"Device: '{}'.\".format(device))"
   ]
  },
  {
   "cell_type": "code",
   "execution_count": 4,
   "metadata": {},
   "outputs": [],
   "source": [
    "print(\"Creating model...\")\n",
    "n_feat = features.size(2) - rmv_feature_num\n",
    "num_nodes = features.size(1)\n",
    "model = MPA(n_feat=n_feat).to(device)\n",
    "criterion = TotalLoss().to(device)\n",
    "optimizer = optim.Adam(model.parameters(), lr=learning_rate)\n",
    "scheduler = torch.optim.lr_scheduler.StepLR(optimizer, step_size=10, gamma=0.9)\n",
    "print(\"Done.\")\n",
    "\n",
    "train_log_filename = output_path + '/' + 'mutation_{}.txt'.format(int((1-args.pred_acc)*100))\n",
    "main(pt=False)"
   ]
  }
 ],
 "metadata": {
  "kernelspec": {
   "display_name": "py37",
   "language": "python",
   "name": "python3"
  },
  "language_info": {
   "codemirror_mode": {
    "name": "ipython",
    "version": 3
   },
   "file_extension": ".py",
   "mimetype": "text/x-python",
   "name": "python",
   "nbconvert_exporter": "python",
   "pygments_lexer": "ipython3",
   "version": "3.7.13"
  },
  "orig_nbformat": 4,
  "vscode": {
   "interpreter": {
    "hash": "78f496bae59da85308d81e6a61ec23c682303053c7903da9a3336f09cefb686a"
   }
  }
 },
 "nbformat": 4,
 "nbformat_minor": 2
}
